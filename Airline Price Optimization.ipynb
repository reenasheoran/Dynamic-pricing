{
 "cells": [
  {
   "cell_type": "code",
   "execution_count": 1,
   "id": "39879da5",
   "metadata": {},
   "outputs": [],
   "source": [
    "import numpy as np\n",
    "from tqdm import tqdm\n",
    "from IPython.display import display, Javascript\n",
    "import json\n",
    "from collections import namedtuple\n",
    "from numpy.random import uniform, seed\n",
    "from numpy import floor"
   ]
  },
  {
   "cell_type": "markdown",
   "id": "47aca9fd",
   "metadata": {},
   "source": [
    "##### Helpers functions"
   ]
  },
  {
   "cell_type": "code",
   "execution_count": 2,
   "id": "b0ff9df1",
   "metadata": {},
   "outputs": [],
   "source": [
    "def _tickets_sold(p, demand_level, max_qty):\n",
    "    quantity_demanded = floor(max(0, p - demand_level))\n",
    "    return min(quantity_demanded, max_qty)"
   ]
  },
  {
   "cell_type": "code",
   "execution_count": 3,
   "id": "1a094d07",
   "metadata": {},
   "outputs": [],
   "source": [
    "# Simulate revenues achieved by pricing function on a event (days_left before event, number of tickets to sell) with random demand\n",
    "\n",
    "def simulate_revenue(days_left, tickets_left, pricing_function, rev_to_date=0, demand_level_min=100, demand_level_max=200, verbose=False):\n",
    "    \n",
    "    if (days_left == 0) or (tickets_left == 0):\n",
    "        \n",
    "        if verbose:\n",
    "            if (days_left == 0):\n",
    "                print(\"The flight took off today. \")\n",
    "            if (tickets_left == 0):\n",
    "                print(\"This flight is booked full.\")\n",
    "            print(\"Total Revenue: €{:.0f}\".format(rev_to_date))\n",
    "        return rev_to_date\n",
    "    \n",
    "    else:\n",
    "        \n",
    "        demand_level = uniform(demand_level_min, demand_level_max)\n",
    "        p = pricing_function(days_left, tickets_left, demand_level)\n",
    "        q = _tickets_sold(demand_level, p, tickets_left)\n",
    "        \n",
    "        if verbose:\n",
    "            print(\"{:.0f} days before flight: \"\n",
    "                  \"Started with {:.0f} seats. \"\n",
    "                  \"Demand level: {:.0f}. \"\n",
    "                  \"Price set to €{:.0f}. \"\n",
    "                  \"Sold {:.0f} tickets. \"\n",
    "                  \"Daily revenue is {:.0f}. Total revenue-to-date is {:.0f}. \"\n",
    "                  \"{:.0f} seats remaining\".format(days_left, tickets_left, demand_level, p, q, p*q, p*q+rev_to_date, tickets_left-q))\n",
    "        return simulate_revenue(days_left = days_left-1,\n",
    "                              tickets_left = tickets_left-q,\n",
    "                              pricing_function=pricing_function,\n",
    "                              rev_to_date=rev_to_date + p * q,\n",
    "                              demand_level_min=demand_level_min,\n",
    "                              demand_level_max=demand_level_max,\n",
    "                              verbose=verbose)\n"
   ]
  },
  {
   "cell_type": "code",
   "execution_count": 4,
   "id": "351caf73",
   "metadata": {},
   "outputs": [],
   "source": [
    "# Calculate average revenues per event achieved by pricing function on a range of events => To compare algorithms\n",
    "\n",
    "def score_me(pricing_function, sims_per_scenario=200):\n",
    "    \n",
    "    seed(0)\n",
    "    Scenario = namedtuple('Scenario', 'n_days n_tickets')\n",
    "    scenarios = [Scenario(n_days=100, n_tickets=100), Scenario(n_days=14, n_tickets=50),\n",
    "                 Scenario(n_days=2, n_tickets=20), Scenario(n_days=1, n_tickets=3),\n",
    "                 ]\n",
    "    scenario_scores = []\n",
    "    \n",
    "    for s in scenarios:\n",
    "        \n",
    "        scenario_score = sum(simulate_revenue(s.n_days, s.n_tickets, pricing_function)\n",
    "                                     for _ in range(sims_per_scenario)) / sims_per_scenario\n",
    "        \n",
    "        print(\"Ran {:.0f} flights starting {:.0f} days before flight with {:.0f} tickets. \"\n",
    "              \"Average revenue: €{:.0f}\".format(sims_per_scenario, s.n_days, s.n_tickets, scenario_score))\n",
    "        \n",
    "        scenario_scores.append(scenario_score)\n",
    "    \n",
    "    score = sum(scenario_scores) / len(scenario_scores)\n",
    "    \n",
    "    print(\"Average revenue across all flights is €{:.0f}\".format(score))\n"
   ]
  },
  {
   "cell_type": "markdown",
   "id": "8738dc4e",
   "metadata": {},
   "source": [
    "##### Testing a pricing function"
   ]
  },
  {
   "cell_type": "code",
   "execution_count": 5,
   "id": "c2fcb9bb",
   "metadata": {},
   "outputs": [],
   "source": [
    "# in command line\n",
    "# %conda install jupyterthemes ## --user git+https://github.com/dunovank/jupyter-themes.git\n",
    "#jt -t grade3 -fs 115 -altp -tfs 13 -nfs 115 -ofs 11 -cellw 88% -T\n",
    "# to retore to jupyter notebook defaults, type: jt -r"
   ]
  },
  {
   "cell_type": "code",
   "execution_count": 6,
   "id": "10bc52dd",
   "metadata": {},
   "outputs": [],
   "source": [
    "def basic_pricing_function(days_left, tickets_left, demand_level):\n",
    "    \"\"\"Sample pricing function\"\"\"\n",
    "    price = demand_level - 10\n",
    "    return price"
   ]
  },
  {
   "cell_type": "code",
   "execution_count": 7,
   "id": "bd9ca848",
   "metadata": {},
   "outputs": [
    {
     "name": "stdout",
     "output_type": "stream",
     "text": [
      "7 days before flight: Started with 50 seats. Demand level: 115. Price set to €105. Sold 10 tickets. Daily revenue is 1055. Total revenue-to-date is 1055. 40 seats remaining\n",
      "6 days before flight: Started with 40 seats. Demand level: 168. Price set to €158. Sold 10 tickets. Daily revenue is 1576. Total revenue-to-date is 2631. 30 seats remaining\n",
      "5 days before flight: Started with 30 seats. Demand level: 132. Price set to €122. Sold 10 tickets. Daily revenue is 1219. Total revenue-to-date is 3850. 20 seats remaining\n",
      "4 days before flight: Started with 20 seats. Demand level: 156. Price set to €146. Sold 10 tickets. Daily revenue is 1463. Total revenue-to-date is 5312. 10 seats remaining\n",
      "3 days before flight: Started with 10 seats. Demand level: 171. Price set to €161. Sold 10 tickets. Daily revenue is 1607. Total revenue-to-date is 6919. 0 seats remaining\n",
      "This flight is booked full.\n",
      "Total Revenue: €6919\n",
      "\n"
     ]
    }
   ],
   "source": [
    "simulate_revenue(days_left=7, tickets_left=50, pricing_function=basic_pricing_function, verbose=True)\n",
    "print()"
   ]
  },
  {
   "cell_type": "markdown",
   "id": "ead93b17",
   "metadata": {},
   "source": [
    "### Optimization algorithm"
   ]
  },
  {
   "cell_type": "code",
   "execution_count": 8,
   "id": "6804caa6",
   "metadata": {},
   "outputs": [],
   "source": [
    "# Sell tickets at the price optimizing revenues, ie p* = demand / 2  # We know this is highly sub-optimal\n",
    "def pricing_function0(days_left, tickets_left, demand_level):\n",
    "    # Sell all tickets left on last day\n",
    "    if days_left == 1 :\n",
    "        price = demand_level - tickets_left\n",
    "    else:\n",
    "        price = min (demand_level/2, demand_level - tickets_left)\n",
    "\n",
    "    return price"
   ]
  },
  {
   "cell_type": "code",
   "execution_count": 9,
   "id": "19b78c30",
   "metadata": {},
   "outputs": [],
   "source": [
    "# simple approach where we sell tickets only if demand is high enough allowing for higher prices\n",
    "def pricing_function1(days_left, tickets_left, demand_level):\n",
    "    # Sell all tickets left on last day\n",
    "    if days_left == 1 :\n",
    "        price = demand_level - tickets_left\n",
    "    else:\n",
    "        if demand_level < 175:\n",
    "            price = demand_level  # sell no ticket if demand below 175\n",
    "        else:\n",
    "            price = min (200 - tickets_left, demand_level - tickets_left/2)  # if demand is 175 or higher, sell no more than half of the tickets left to allow further optimization\n",
    "            \n",
    "    return price"
   ]
  },
  {
   "cell_type": "code",
   "execution_count": 10,
   "id": "6736b44e",
   "metadata": {},
   "outputs": [],
   "source": [
    "# approach where we sell a amount of tickets proportional to the likelyhood to get higher demand and the number of days left\n",
    "def pricing_function2(days_left, tickets_left, demand_level):\n",
    "    # Sell all tickets left on last day\n",
    "    if days_left == 1 :\n",
    "        price = demand_level - tickets_left\n",
    "    else:\n",
    "        if days_left > 4:\n",
    "            sell = min(tickets_left, tickets_left / days_left * 1 / ((200 - demand_level)/ 100) )\n",
    "            price = max(0,200 - sell)\n",
    "        else:\n",
    "            sell = min(tickets_left, tickets_left / days_left * 1 / ((200 - demand_level)/ 100) )\n",
    "            price = max(0,demand_level - sell)\n",
    "        \n",
    "    return price"
   ]
  },
  {
   "cell_type": "code",
   "execution_count": 11,
   "id": "a7c81aa5",
   "metadata": {},
   "outputs": [],
   "source": [
    "# Segment further to take opportunity of higher demand levels\n",
    "def pricing_function3(days_left, tickets_left, demand_level):\n",
    "    # Sell all tickets left on last day\n",
    "    if days_left == 1 :\n",
    "        price = demand_level - tickets_left\n",
    "    else:\n",
    "        if days_left > 3:\n",
    "            price = 200 - tickets_left/2\n",
    "        elif days_left <= 3:\n",
    "            price = 175 - tickets_left/2\n",
    "        else:\n",
    "            price = 150 - tickets_left\n",
    "    return price"
   ]
  },
  {
   "cell_type": "code",
   "execution_count": 12,
   "id": "aa887054",
   "metadata": {},
   "outputs": [],
   "source": [
    "# sell small amount of tickets only and only if demand is above 170 \n",
    "def pricing_function4(days_left, tickets_left, demand_level):\n",
    "    # Sell all tickets left on last day\n",
    "    if days_left == 1 :\n",
    "        price = demand_level - tickets_left\n",
    "    else:\n",
    "        if demand_level < 170:\n",
    "            price = demand_level\n",
    "        else:\n",
    "            price = demand_level-10\n",
    "\n",
    "    return price"
   ]
  },
  {
   "cell_type": "code",
   "execution_count": 13,
   "id": "3993c5b8",
   "metadata": {},
   "outputs": [],
   "source": [
    "# sell only if demand is above 173 and sell a number of tickets decreasing with the number of days left\n",
    "def pricing_function5(days_left, tickets_left, demand_level):\n",
    "\n",
    "    # Sell all tickets left on last day\n",
    "    if days_left == 1:\n",
    "        price = demand_level - tickets_left\n",
    "    # Sell 10% of the tickets left on the second last day if demand is above average\n",
    "    elif days_left == 2 and demand_level > 150:\n",
    "        price = 0.9*demand_level\n",
    "    # Only sell tickets if demand is higher than 173\n",
    "    elif demand_level > 173:\n",
    "        price = demand_level - (tickets_left - days_left)/2\n",
    "    else:\n",
    "        price = demand_level # sell no tickets\n",
    "    return price"
   ]
  },
  {
   "cell_type": "code",
   "execution_count": 14,
   "id": "378222ed",
   "metadata": {},
   "outputs": [
    {
     "name": "stdout",
     "output_type": "stream",
     "text": [
      "\n",
      "pricing function 0 :\n",
      "Ran 200 flights starting 100 days before flight with 100 tickets. Average revenue: €5004\n",
      "Ran 200 flights starting 14 days before flight with 50 tickets. Average revenue: €3728\n",
      "Ran 200 flights starting 2 days before flight with 20 tickets. Average revenue: €1503\n",
      "Ran 200 flights starting 1 days before flight with 3 tickets. Average revenue: €434\n",
      "Average revenue across all flights is €2667\n",
      "\n",
      "pricing function 1 :\n",
      "Ran 200 flights starting 100 days before flight with 100 tickets. Average revenue: €10997\n",
      "Ran 200 flights starting 14 days before flight with 50 tickets. Average revenue: €7681\n",
      "Ran 200 flights starting 2 days before flight with 20 tickets. Average revenue: €2729\n",
      "Ran 200 flights starting 1 days before flight with 3 tickets. Average revenue: €431\n",
      "Average revenue across all flights is €5459\n",
      "\n",
      "pricing function 2 :\n",
      "Ran 200 flights starting 100 days before flight with 100 tickets. Average revenue: €14612\n",
      "Ran 200 flights starting 14 days before flight with 50 tickets. Average revenue: €7684\n",
      "Ran 200 flights starting 2 days before flight with 20 tickets. Average revenue: €2784\n",
      "Ran 200 flights starting 1 days before flight with 3 tickets. Average revenue: €433\n",
      "Average revenue across all flights is €6378\n",
      "\n",
      "pricing function 3 :\n",
      "Ran 200 flights starting 100 days before flight with 100 tickets. Average revenue: €16676\n",
      "Ran 200 flights starting 14 days before flight with 50 tickets. Average revenue: €7873\n",
      "Ran 200 flights starting 2 days before flight with 20 tickets. Average revenue: €2727\n",
      "Ran 200 flights starting 1 days before flight with 3 tickets. Average revenue: €437\n",
      "Average revenue across all flights is €6928\n",
      "\n",
      "pricing function 4 :\n",
      "Ran 200 flights starting 100 days before flight with 100 tickets. Average revenue: €17498\n",
      "Ran 200 flights starting 14 days before flight with 50 tickets. Average revenue: €7994\n",
      "Ran 200 flights starting 2 days before flight with 20 tickets. Average revenue: €2740\n",
      "Ran 200 flights starting 1 days before flight with 3 tickets. Average revenue: €452\n",
      "Average revenue across all flights is €7171\n",
      "\n",
      "pricing function 5 :\n",
      "Ran 200 flights starting 100 days before flight with 100 tickets. Average revenue: €17857\n",
      "Ran 200 flights starting 14 days before flight with 50 tickets. Average revenue: €8226\n",
      "Ran 200 flights starting 2 days before flight with 20 tickets. Average revenue: €2871\n",
      "Ran 200 flights starting 1 days before flight with 3 tickets. Average revenue: €438\n",
      "Average revenue across all flights is €7348\n"
     ]
    }
   ],
   "source": [
    "for index, f in enumerate([pricing_function0, pricing_function1, pricing_function2, pricing_function3, pricing_function4, pricing_function5]):\n",
    "    print('\\npricing function {} :'.format(index))\n",
    "    score_me(f, 200)"
   ]
  },
  {
   "cell_type": "markdown",
   "id": "d93340b4",
   "metadata": {},
   "source": [
    "Conclusion: we can observe that selling a maximum of tickets at the optimal theoritical price gets the worste result (function 0). The more we segment the better. Selling smaller quantities in the early stages to maximize opportunities to sell at higher prices as well.\n",
    "\n",
    "Let's now try more elaborate approaches.\n",
    "\n",
    "Optimization algorithms. Brute Force"
   ]
  },
  {
   "cell_type": "code",
   "execution_count": 15,
   "id": "f6857bc9",
   "metadata": {},
   "outputs": [
    {
     "name": "stderr",
     "output_type": "stream",
     "text": [
      "100%|██████████| 99/99 [00:15<00:00,  6.42it/s]\n"
     ]
    }
   ],
   "source": [
    "# let's define containers for brute force calculation of optimum prices\n",
    "# we assume max day left = 100, max tickets to sell = 100\n",
    "n = 100\n",
    "optimal_prices = np.zeros((n+1, n+1, n+1), dtype='uint8') # The optimal price given the number of days left (0->100), tickets left (0->100) and current demand level (100->200)\n",
    "optimal_sales = np.zeros((n+1, n+1), dtype=np.float)      # Expected profit when pricing optimally given the number of days and tickets left\n",
    "\n",
    "# Base case when there is 1 day left\n",
    "for tickets_left in range(n+1):\n",
    "    \n",
    "    for demand in range(n, 2*n+1):\n",
    "        \n",
    "        tickets_sold = min(demand // 2, tickets_left) # demand / 2 is the optimal quantity to sell if there are enough tickets left\n",
    "        price = demand - tickets_sold\n",
    "        \n",
    "        optimal_prices[1, tickets_left, demand - 100] = price\n",
    "        \n",
    "        # Calculate optimal revenue expectation. Sum over every demand level with equal chance of occurence (uniform distribution)\n",
    "        optimal_sales[1, tickets_left] += (price * tickets_sold / 101) # Average out the best profit through all possible demand levels\n",
    "        \n",
    "# Fill in the tables\n",
    "for days_left in tqdm(range(2, n+1)):\n",
    "    \n",
    "    for tickets_left in range(n+1):\n",
    "        \n",
    "        last_best_price = 0 # For previous demand level (one lower)\n",
    "        \n",
    "        for demand in range(n, 2*n+1):\n",
    "            \n",
    "            # Search over all prices to find the best price for the context: days_left, tickets_left, demand_level\n",
    "            best_revenue = 0\n",
    "            best_price = 0\n",
    "                        \n",
    "            # No need to search all prices in range(0, demand):\n",
    "            for price in range(max(demand - tickets_left, last_best_price), demand+1): # optimal price should not be lower than demand - remaining tickets or the last best price\n",
    "                \n",
    "                tickets_sold = min(demand - price, tickets_left) # This is the quantity that will be sold at price p\n",
    "                revenue = price * tickets_sold + optimal_sales[days_left - 1, tickets_left - tickets_sold] # This is the total expected profit if selling at price p\n",
    "                \n",
    "                if revenue > best_revenue: # Update best profit and price\n",
    "                    best_revenue, best_price = revenue, price\n",
    "            \n",
    "            # Set the optimal price and profit values\n",
    "            optimal_prices[days_left, tickets_left, demand-100] = best_price\n",
    "            \n",
    "            # similarly let's calculate the optimal_sales expectation over all possible demand level (same probability of occurence)\n",
    "            optimal_sales[days_left, tickets_left] += (best_revenue / 101) # Average out the best profit through all possible demand level\n",
    "            \n",
    "            last_best_price = best_price # For higher demand levels, this best_price is the floor\n"
   ]
  },
  {
   "cell_type": "code",
   "execution_count": 16,
   "id": "cc2e8938",
   "metadata": {},
   "outputs": [],
   "source": [
    "def pricing_function_6(days_left, tickets_left, demand_level):\n",
    "    \"\"\"Return the optimal price\"\"\"\n",
    "    \n",
    "    # These should be cast to an integer (and rounded down)\n",
    "    tickets_left = int(tickets_left)\n",
    "    demand_level = int(demand_level)\n",
    "    \n",
    "    return optimal_prices[days_left, tickets_left, demand_level-100] # Return the precomputed values"
   ]
  },
  {
   "cell_type": "code",
   "execution_count": 17,
   "id": "1b36df15",
   "metadata": {},
   "outputs": [
    {
     "name": "stdout",
     "output_type": "stream",
     "text": [
      "pricing function:\n",
      "7 days before flight: Started with 50 seats. Demand level: 130. Price set to €130. Sold 0 tickets. Daily revenue is 0. Total revenue-to-date is 0. 50 seats remaining\n",
      "6 days before flight: Started with 50 seats. Demand level: 135. Price set to €134. Sold 1 tickets. Daily revenue is 134. Total revenue-to-date is 134. 49 seats remaining\n",
      "5 days before flight: Started with 49 seats. Demand level: 102. Price set to €101. Sold 0 tickets. Daily revenue is 0. Total revenue-to-date is 134. 49 seats remaining\n",
      "4 days before flight: Started with 49 seats. Demand level: 191. Price set to €165. Sold 26 tickets. Daily revenue is 4290. Total revenue-to-date is 4424. 23 seats remaining\n",
      "3 days before flight: Started with 23 seats. Demand level: 174. Price set to €160. Sold 14 tickets. Daily revenue is 2240. Total revenue-to-date is 6664. 9 seats remaining\n",
      "2 days before flight: Started with 9 seats. Demand level: 124. Price set to €124. Sold 0 tickets. Daily revenue is 0. Total revenue-to-date is 6664. 9 seats remaining\n",
      "1 days before flight: Started with 9 seats. Demand level: 146. Price set to €137. Sold 9 tickets. Daily revenue is 1233. Total revenue-to-date is 7897. 0 seats remaining\n",
      "The flight took off today. \n",
      "This flight is booked full.\n",
      "Total Revenue: €7897\n",
      "Ran 200 flights starting 100 days before flight with 100 tickets. Average revenue: €18456\n",
      "Ran 200 flights starting 14 days before flight with 50 tickets. Average revenue: €8534\n",
      "Ran 200 flights starting 2 days before flight with 20 tickets. Average revenue: €2873\n",
      "Ran 200 flights starting 1 days before flight with 3 tickets. Average revenue: €435\n",
      "Average revenue across all flights is €7574\n"
     ]
    }
   ],
   "source": [
    "print('pricing function:')\n",
    "\n",
    "simulate_revenue(days_left=7, tickets_left=50, pricing_function=pricing_function_6, verbose=True)\n",
    "score_me(pricing_function_6, 200)"
   ]
  },
  {
   "cell_type": "markdown",
   "id": "b1614415",
   "metadata": {},
   "source": [
    "## Let's finally use a Dynamic programming version"
   ]
  },
  {
   "cell_type": "code",
   "execution_count": 18,
   "id": "7f2f317d",
   "metadata": {},
   "outputs": [],
   "source": [
    "from math import floor\n",
    "\n",
    "savedF = {}\n",
    "savedG = {}                                  \n",
    "\n",
    "def getF(tickets,days):\n",
    "    if tickets<=0 or days <= 0:\n",
    "        return 0\n",
    "    if (tickets,days) in savedF:\n",
    "        return savedF[(tickets,days)]\n",
    "    res = 0.0\n",
    "    #count math expectation \n",
    "    for i in range(100, 201):\n",
    "        res += getG(tickets, days, i)[0]\n",
    "    res /= 101\n",
    "    \n",
    "    savedF[(tickets,days)] = res\n",
    "    return res\n",
    "\n",
    "def getG(tickets, days, demand):\n",
    "    if days <= 0 or tickets <= 0:\n",
    "        return (0,0)\n",
    "    if (tickets, days, demand) in savedG:\n",
    "        return savedG[(tickets, days, demand)]\n",
    "    topTotal = -1\n",
    "    topPrice = -1\n",
    "    for i in range(1, demand+1):\n",
    "        res = min(demand-i, tickets)*i + (getF(tickets-(demand-i), days-1) if tickets-(demand-i) > 0 else 0)\n",
    "        if res > topTotal:\n",
    "            topTotal, topPrice = res, i\n",
    "    savedG[(tickets, days, demand)] = (topTotal, topPrice)\n",
    "    return (topTotal, topPrice)"
   ]
  },
  {
   "cell_type": "code",
   "execution_count": 19,
   "id": "e8bffb01",
   "metadata": {},
   "outputs": [],
   "source": [
    "def pricing_function_7(days_left, tickets_left, demand_level):\n",
    "    demand_level_floor = int(floor(demand_level))\n",
    "    demand_delta = demand_level - demand_level_floor\n",
    "    (topTotal, topPrice) = getG(tickets_left, days_left, demand_level_floor)\n",
    "    return topPrice + demand_delta - 0.00001"
   ]
  },
  {
   "cell_type": "code",
   "execution_count": 20,
   "id": "f38971b7",
   "metadata": {},
   "outputs": [
    {
     "name": "stdout",
     "output_type": "stream",
     "text": [
      "pricing function:\n",
      "7 days before flight: Started with 50 seats. Demand level: 198. Price set to €175. Sold 23 tickets. Daily revenue is 4028. Total revenue-to-date is 4028. 27 seats remaining\n",
      "6 days before flight: Started with 27 seats. Demand level: 152. Price set to €151. Sold 1 tickets. Daily revenue is 151. Total revenue-to-date is 4179. 26 seats remaining\n",
      "5 days before flight: Started with 26 seats. Demand level: 149. Price set to €147. Sold 2 tickets. Daily revenue is 293. Total revenue-to-date is 4472. 24 seats remaining\n",
      "4 days before flight: Started with 24 seats. Demand level: 160. Price set to €153. Sold 7 tickets. Daily revenue is 1068. Total revenue-to-date is 5540. 17 seats remaining\n",
      "3 days before flight: Started with 17 seats. Demand level: 109. Price set to €109. Sold 0 tickets. Daily revenue is 0. Total revenue-to-date is 5540. 17 seats remaining\n",
      "2 days before flight: Started with 17 seats. Demand level: 131. Price set to €127. Sold 4 tickets. Daily revenue is 507. Total revenue-to-date is 6047. 13 seats remaining\n",
      "1 days before flight: Started with 13 seats. Demand level: 175. Price set to €162. Sold 13 tickets. Daily revenue is 2111. Total revenue-to-date is 8158. 0 seats remaining\n",
      "The flight took off today. \n",
      "This flight is booked full.\n",
      "Total Revenue: €8158\n",
      "Ran 200 flights starting 100 days before flight with 100 tickets. Average revenue: €18507\n",
      "Ran 200 flights starting 14 days before flight with 50 tickets. Average revenue: €8559\n",
      "Ran 200 flights starting 2 days before flight with 20 tickets. Average revenue: €2883\n",
      "Ran 200 flights starting 1 days before flight with 3 tickets. Average revenue: €436\n",
      "Average revenue across all flights is €7596\n"
     ]
    }
   ],
   "source": [
    "print('pricing function:')\n",
    "simulate_revenue(days_left=7, tickets_left=50, pricing_function=pricing_function_7, verbose=True)\n",
    "score_me(pricing_function_7, 200)"
   ]
  },
  {
   "cell_type": "markdown",
   "id": "bf1c199a",
   "metadata": {},
   "source": [
    "### Appendix: Revenue curve illustrations"
   ]
  },
  {
   "cell_type": "code",
   "execution_count": 21,
   "id": "36c4c836",
   "metadata": {},
   "outputs": [
    {
     "data": {
      "image/png": "[encoded data removed]",
      "text/plain": [
       "<Figure size 1080x360 with 2 Axes>"
      ]
     },
     "metadata": {
      "needs_background": "light"
     },
     "output_type": "display_data"
    }
   ],
   "source": [
    "import matplotlib.pyplot as plt\n",
    "plt.figure(figsize=(15,5))\n",
    "plt.subplot(1,2,1)\n",
    "x = np.arange(0, 150)\n",
    "y = x * (150 - x)\n",
    "plt.ylim(0,6000)\n",
    "plt.xlim(0,150)\n",
    "plt.plot(x,y)\n",
    "plt.plot((75,75), (0,5600))\n",
    "plt.title('Revenues as a function of price')\n",
    "plt.xlabel('price')\n",
    "plt.ylabel('revenue')\n",
    "\n",
    "plt.subplot(1,2,2)\n",
    "x = np.arange(0, 100)\n",
    "y = x * (150 - x)\n",
    "plt.ylim(0,6000)\n",
    "plt.xlim(0,100)\n",
    "plt.plot(x,y)\n",
    "plt.plot((75,75), (0,5600))\n",
    "plt.title('Revenues as a function of tickets sold')\n",
    "plt.xlabel('tickets sold')\n",
    "plt.ylabel('revenue')\n",
    "\n",
    "plt.savefig('revenue_curve.png')\n",
    "plt.show()"
   ]
  },
  {
   "cell_type": "code",
   "execution_count": null,
   "id": "33c2229a",
   "metadata": {},
   "outputs": [],
   "source": []
  }
 ],
 "metadata": {
  "kernelspec": {
   "display_name": "Python 3",
   "language": "python",
   "name": "python3"
  },
  "language_info": {
   "codemirror_mode": {
    "name": "ipython",
    "version": 3
   },
   "file_extension": ".py",
   "mimetype": "text/x-python",
   "name": "python",
   "nbconvert_exporter": "python",
   "pygments_lexer": "ipython3",
   "version": "3.8.8"
  }
 },
 "nbformat": 4,
 "nbformat_minor": 5
}
